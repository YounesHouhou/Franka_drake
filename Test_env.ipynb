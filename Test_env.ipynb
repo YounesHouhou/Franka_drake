{
 "cells": [
  {
   "cell_type": "code",
   "execution_count": 1,
   "metadata": {},
   "outputs": [],
   "source": [
    "import gymnasium as gym\n",
    "import numpy as np\n",
    "import torch\n",
    "from psutil import cpu_count\n",
    "from pydrake.all import StartMeshcat\n",
    "import Franka_gym_pos\n",
    "from Franka_gym_pos import *\n",
    "from manipulation.utils import FindDataResource, RenderDiagram, running_as_notebook\n",
    "\n",
    "num_cpu = int(cpu_count() / 2) if running_as_notebook else 2"
   ]
  },
  {
   "cell_type": "code",
   "execution_count": null,
   "metadata": {},
   "outputs": [],
   "source": [
    "meshcat = StartMeshcat()"
   ]
  },
  {
   "cell_type": "markdown",
   "metadata": {},
   "source": [
    "## Teleop Franka arm \n",
    "To move the robot manually and visualize it : \n",
    "Enter an integer between 0 and 5 as input.\n",
    "\n",
    "0: positive translation along the x-axis / 1: negative translation <br>\n",
    "\n",
    "2: positive translation along the y-axis / 3: negative translation <br>\n",
    "\n",
    "4: positive translation along the z-axis / 5: negative translation "
   ]
  },
  {
   "cell_type": "code",
   "execution_count": null,
   "metadata": {},
   "outputs": [],
   "source": [
    "\n",
    "env = gym.make(\"Franka-v1\", meshcat=meshcat)\n",
    "obs, _ = env.reset()\n",
    "env.render()\n",
    "\n",
    "for i in range(50):\n",
    "\n",
    "    action = [int(input(\"Choose an action \"))]\n",
    "    obs, reward, terminated, truncated, info= env.step(action)\n",
    "    env.render()\n",
    "    #print(reward)\n",
    "    print(terminated)\n",
    "    "
   ]
  },
  {
   "cell_type": "markdown",
   "metadata": {},
   "source": [
    "### Simulation with random actions\n",
    "\n",
    "Sample a random action at each time step to make the robot move randomly :"
   ]
  },
  {
   "cell_type": "code",
   "execution_count": null,
   "metadata": {},
   "outputs": [],
   "source": [
    "\n",
    "env = gym.make(\"Franka-v1\", meshcat=meshcat)\n",
    "obs, _ = env.reset()\n",
    "meshcat.StartRecording()\n",
    "for i in range(200 if running_as_notebook else 5):\n",
    "    action = env.action_space.sample()\n",
    "    obs, reward, terminated, truncated, info = env.step(action)\n",
    "    if reward== 100 : print(reward)\n",
    "    #if i == 50 : break\n",
    "    env.render()\n",
    "    if terminated: \n",
    "        obs, _ = env.reset()\n",
    "meshcat.PublishRecording()"
   ]
  },
  {
   "cell_type": "markdown",
   "metadata": {},
   "source": [
    "Note: The Meshcat visualizer allows you to replay the simulation after recording it. To do this, click on Open Control → Animations → Default."
   ]
  },
  {
   "cell_type": "code",
   "execution_count": null,
   "metadata": {},
   "outputs": [],
   "source": [
    "# To display the diagram of our system\n",
    "\n",
    "simulator= env.simulator\n",
    "RenderDiagram(simulator.get_system(), max_depth=1)"
   ]
  },
  {
   "cell_type": "markdown",
   "metadata": {},
   "source": [
    "\n",
    "## REINFORCE Algo :"
   ]
  },
  {
   "cell_type": "code",
   "execution_count": 4,
   "metadata": {},
   "outputs": [],
   "source": [
    "import gymnasium as gym\n",
    "import torch\n",
    "import torch.nn as nn\n",
    "import torch.nn.functional as F\n",
    "import torch.optim as optim\n",
    "from torch.distributions import Categorical\n",
    "\n",
    "#Hyperparameters\n",
    "learning_rate = 0.0002\n",
    "gamma         = 0.98\n",
    "\n",
    "class Policy(nn.Module):\n",
    "    def __init__(self):\n",
    "        super(Policy, self).__init__()\n",
    "        self.data = []\n",
    "        \n",
    "        self.fc1 = nn.Linear(14, 128)\n",
    "        self.fc2 = nn.Linear(128, 6)\n",
    "        self.optimizer = optim.Adam(self.parameters(), lr=learning_rate)\n",
    "        \n",
    "    def forward(self, x):\n",
    "        x = F.relu(self.fc1(x))\n",
    "        x = F.softmax(self.fc2(x), dim=0)\n",
    "        return x\n",
    "      \n",
    "    def put_data(self, item):\n",
    "        self.data.append(item)\n",
    "        \n",
    "    def train_net(self):\n",
    "        R = 0\n",
    "        self.optimizer.zero_grad()\n",
    "        for r, prob in self.data[::-1]:\n",
    "            R = r + gamma * R\n",
    "            loss = -torch.log(prob) * R\n",
    "            loss.backward()\n",
    "        self.optimizer.step()\n",
    "        self.data = []\n"
   ]
  },
  {
   "cell_type": "markdown",
   "metadata": {},
   "source": [
    "## Training with Reinforce RL algo :"
   ]
  },
  {
   "cell_type": "code",
   "execution_count": null,
   "metadata": {},
   "outputs": [],
   "source": [
    "env = gym.make(\"Franka-v1\", meshcat=meshcat)\n",
    "pi = Policy()\n",
    "score = 0.0\n",
    "print_interval = 20\n",
    "\n",
    "s,_= env.reset()\n",
    "\n",
    "for n_epi in range(100):\n",
    "    s, _ = env.reset()\n",
    "    done = False\n",
    "        \n",
    "    for step in range(100): \n",
    "            \n",
    "        prob = pi(torch.from_numpy(s).float())\n",
    "        m = Categorical(prob)\n",
    "        a = m.sample()\n",
    "        action= np.array([a.item()])\n",
    "        s_prime, r, done, truncated, info = env.step(action)\n",
    "        pi.put_data((r,prob[a]))\n",
    "        s = s_prime\n",
    "        score += r\n",
    "            \n",
    "    pi.train_net()\n",
    "        \n",
    "    if n_epi%print_interval==0 and n_epi!=0:\n",
    "        print(\"# of episode :{}, avg score : {}\".format(n_epi, score/print_interval))\n",
    "        score = 0.0\n",
    "#env.close()\n",
    "\n",
    "print(\"TRAINING FINISHED\")"
   ]
  },
  {
   "cell_type": "code",
   "execution_count": null,
   "metadata": {},
   "outputs": [],
   "source": [
    "env = gym.make(\"Franka-v1\", meshcat=meshcat)\n",
    "render_episodes = 5\n",
    "for _ in range(render_episodes):\n",
    "    s, _ = env.reset()\n",
    "    done = False\n",
    "    for _ in range(100):\n",
    "        prob = pi(torch.from_numpy(s).float())\n",
    "        m = Categorical(prob)\n",
    "        a = m.sample() # Choose action greedily for rendering\n",
    "        action= np.array([a.item()])\n",
    "        s, r, done, _,_ = env.step(action)\n",
    "        env.render()   "
   ]
  }
 ],
 "metadata": {
  "kernelspec": {
   "display_name": "drake_env",
   "language": "python",
   "name": "python3"
  },
  "language_info": {
   "codemirror_mode": {
    "name": "ipython",
    "version": 3
   },
   "file_extension": ".py",
   "mimetype": "text/x-python",
   "name": "python",
   "nbconvert_exporter": "python",
   "pygments_lexer": "ipython3",
   "version": "3.10.12"
  }
 },
 "nbformat": 4,
 "nbformat_minor": 2
}
