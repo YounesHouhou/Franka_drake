{
 "cells": [
  {
   "cell_type": "code",
   "execution_count": null,
   "metadata": {},
   "outputs": [],
   "source": [
    "import gymnasium as gym\n",
    "import numpy as np\n",
    "import torch\n",
    "from psutil import cpu_count\n",
    "from pydrake.all import StartMeshcat\n",
    "\n",
    "#import manipulation.envs.box_flipup  # no-member\n",
    "import Franka_gym_pos\n",
    "from Franka_gym_pos import *\n",
    "from manipulation.utils import FindDataResource, RenderDiagram, running_as_notebook\n",
    "\n",
    "num_cpu = int(cpu_count() / 2) if running_as_notebook else 2"
   ]
  },
  {
   "cell_type": "code",
   "execution_count": null,
   "metadata": {},
   "outputs": [],
   "source": [
    "meshcat = StartMeshcat()"
   ]
  },
  {
   "cell_type": "code",
   "execution_count": null,
   "metadata": {},
   "outputs": [],
   "source": [
    "env = gym.make(\"Franka-v1\", meshcat=meshcat)\n",
    "obs, _ = env.reset()\n",
    "env.render()\n",
    "\n",
    "for i in range(50):\n",
    "\n",
    "    test = [int(input(\"Coose an action (0, 1 or 2) :\"))]\n",
    "\n",
    "    obs, reward, terminated, truncated, info= env.step(test)\n",
    "    #print(obs)\n",
    "    env.render()"
   ]
  }
 ],
 "metadata": {
  "language_info": {
   "name": "python"
  }
 },
 "nbformat": 4,
 "nbformat_minor": 2
}
