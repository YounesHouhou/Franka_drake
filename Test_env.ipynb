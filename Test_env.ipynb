{
 "cells": [
  {
   "cell_type": "code",
   "execution_count": 1,
   "metadata": {},
   "outputs": [],
   "source": [
    "import gymnasium as gym\n",
    "import numpy as np\n",
    "import torch\n",
    "from psutil import cpu_count\n",
    "from pydrake.all import StartMeshcat\n",
    "import Franka_gym_pos\n",
    "from Franka_gym_pos import *\n",
    "from manipulation.utils import FindDataResource, RenderDiagram, running_as_notebook\n",
    "\n",
    "num_cpu = int(cpu_count() / 2) if running_as_notebook else 2"
   ]
  },
  {
   "cell_type": "code",
   "execution_count": 2,
   "metadata": {},
   "outputs": [
    {
     "name": "stderr",
     "output_type": "stream",
     "text": [
      "INFO:drake:Meshcat listening for connections at http://localhost:7000\n"
     ]
    }
   ],
   "source": [
    "meshcat = StartMeshcat()"
   ]
  },
  {
   "cell_type": "markdown",
   "metadata": {},
   "source": [
    "### Teleop Franka arm\n",
    "To move the robot manually and visualize it : \n",
    "Enter an integer between 0 and 5 as input.\n",
    "\n",
    "0: positive translation along the x-axis / 1: negative translation <br>\n",
    "\n",
    "2: positive translation along the y-axis / 3: negative translation <br>\n",
    "\n",
    "4: positive translation along the z-axis / 5: negative translation "
   ]
  },
  {
   "cell_type": "code",
   "execution_count": 3,
   "metadata": {},
   "outputs": [
    {
     "name": "stderr",
     "output_type": "stream",
     "text": [
      "/home/younes/iris/drake/drake_env/lib/python3.10/site-packages/gymnasium/utils/passive_env_checker.py:159: UserWarning: \u001b[33mWARN: The obs returned by the `reset()` method is not within the observation space.\u001b[0m\n",
      "  logger.warn(f\"{pre} is not within the observation space.\")\n",
      "/home/younes/iris/drake/drake_env/lib/python3.10/site-packages/gymnasium/utils/passive_env_checker.py:335: UserWarning: \u001b[33mWARN: No render fps was declared in the environment (env.metadata['render_fps'] is None or not defined), rendering may occur at inconsistent fps.\u001b[0m\n",
      "  logger.warn(\n",
      "WARNING:drake:Differential IK started returning status:\"stuck\" at time 0.\n",
      "WARNING:drake:Differential IK started finding solutions again at time 0.055.\n",
      "WARNING:drake:Differential IK started returning status:\"stuck\" at time 0.058.\n",
      "WARNING:drake:Differential IK started finding solutions again at time 0.091.\n",
      "WARNING:drake:Differential IK started returning status:\"stuck\" at time 0.095.\n",
      "/home/younes/iris/drake/drake_env/lib/python3.10/site-packages/gymnasium/utils/passive_env_checker.py:159: UserWarning: \u001b[33mWARN: The obs returned by the `step()` method is not within the observation space.\u001b[0m\n",
      "  logger.warn(f\"{pre} is not within the observation space.\")\n",
      "WARNING:drake:Differential IK started finding solutions again at time 0.128.\n",
      "WARNING:drake:Differential IK started returning status:\"stuck\" at time 0.136.\n",
      "WARNING:drake:Differential IK started finding solutions again at time 0.163.\n",
      "WARNING:drake:Differential IK started returning status:\"stuck\" at time 0.17200000000000001.\n",
      "WARNING:drake:Differential IK started finding solutions again at time 0.199.\n",
      "WARNING:drake:Differential IK started returning status:\"stuck\" at time 0.217.\n",
      "WARNING:drake:Differential IK started finding solutions again at time 0.231.\n",
      "WARNING:drake:Differential IK started returning status:\"stuck\" at time 0.256.\n",
      "WARNING:drake:Differential IK started finding solutions again at time 0.263.\n",
      "WARNING:drake:Differential IK started returning status:\"stuck\" at time 1.25.\n"
     ]
    },
    {
     "ename": "ValueError",
     "evalue": "invalid literal for int() with base 10: ''",
     "output_type": "error",
     "traceback": [
      "\u001b[0;31m---------------------------------------------------------------------------\u001b[0m",
      "\u001b[0;31mValueError\u001b[0m                                Traceback (most recent call last)",
      "Cell \u001b[0;32mIn[3], line 7\u001b[0m\n\u001b[1;32m      3\u001b[0m env\u001b[38;5;241m.\u001b[39mrender()\n\u001b[1;32m      5\u001b[0m \u001b[38;5;28;01mfor\u001b[39;00m i \u001b[38;5;129;01min\u001b[39;00m \u001b[38;5;28mrange\u001b[39m(\u001b[38;5;241m50\u001b[39m):\n\u001b[0;32m----> 7\u001b[0m     action \u001b[38;5;241m=\u001b[39m [\u001b[38;5;28;43mint\u001b[39;49m\u001b[43m(\u001b[49m\u001b[38;5;28;43minput\u001b[39;49m\u001b[43m(\u001b[49m\u001b[38;5;124;43m\"\u001b[39;49m\u001b[38;5;124;43mChoose an action \u001b[39;49m\u001b[38;5;124;43m\"\u001b[39;49m\u001b[43m)\u001b[49m\u001b[43m)\u001b[49m]\n\u001b[1;32m      8\u001b[0m     obs, reward, terminated, truncated, info\u001b[38;5;241m=\u001b[39m env\u001b[38;5;241m.\u001b[39mstep(action)\n\u001b[1;32m      9\u001b[0m     env\u001b[38;5;241m.\u001b[39mrender()\n",
      "\u001b[0;31mValueError\u001b[0m: invalid literal for int() with base 10: ''"
     ]
    }
   ],
   "source": [
    "\n",
    "env = gym.make(\"Franka-v1\", meshcat=meshcat)\n",
    "obs, _ = env.reset()\n",
    "env.render()\n",
    "\n",
    "for i in range(50):\n",
    "\n",
    "    action = [int(input(\"Choose an action \"))]\n",
    "    obs, reward, terminated, truncated, info= env.step(action)\n",
    "    env.render()\n",
    "    "
   ]
  },
  {
   "cell_type": "markdown",
   "metadata": {},
   "source": [
    "Sample a random action at each time step to make the robot move randomly :"
   ]
  },
  {
   "cell_type": "code",
   "execution_count": 4,
   "metadata": {},
   "outputs": [
    {
     "name": "stderr",
     "output_type": "stream",
     "text": [
      "WARNING:drake:Differential IK started returning status:\"no solution\" at time 0.\n"
     ]
    }
   ],
   "source": [
    "\n",
    "env = gym.make(\"Franka-v1\", meshcat=meshcat)\n",
    "obs, _ = env.reset()\n",
    "meshcat.StartRecording()\n",
    "for i in range(200 if running_as_notebook else 5):\n",
    "    action = env.action_space.sample()\n",
    "    obs, reward, terminated, truncated, info = env.step(action)\n",
    "    #if i == 50 : break\n",
    "    env.render()\n",
    "    if terminated: \n",
    "        obs, _ = env.reset()\n",
    "meshcat.PublishRecording()"
   ]
  },
  {
   "cell_type": "markdown",
   "metadata": {},
   "source": [
    "Note: The Meshcat visualizer allows you to replay the simulation after recording it. To do this, click on Open Control → Animations → Default."
   ]
  }
 ],
 "metadata": {
  "kernelspec": {
   "display_name": "drake_env",
   "language": "python",
   "name": "python3"
  },
  "language_info": {
   "codemirror_mode": {
    "name": "ipython",
    "version": 3
   },
   "file_extension": ".py",
   "mimetype": "text/x-python",
   "name": "python",
   "nbconvert_exporter": "python",
   "pygments_lexer": "ipython3",
   "version": "3.10.12"
  }
 },
 "nbformat": 4,
 "nbformat_minor": 2
}
