{
 "cells": [
  {
   "cell_type": "code",
   "execution_count": 4,
   "metadata": {},
   "outputs": [],
   "source": [
    "import gymnasium as gym\n",
    "import numpy as np\n",
    "import torch\n",
    "from psutil import cpu_count\n",
    "from pydrake.all import StartMeshcat\n",
    "import Franka_gym_pos\n",
    "from Franka_gym_pos import *\n",
    "from manipulation.utils import FindDataResource, RenderDiagram, running_as_notebook\n",
    "\n",
    "num_cpu = int(cpu_count() / 2) if running_as_notebook else 2"
   ]
  },
  {
   "cell_type": "code",
   "execution_count": 5,
   "metadata": {},
   "outputs": [
    {
     "name": "stderr",
     "output_type": "stream",
     "text": [
      "INFO:drake:Meshcat listening for connections at http://localhost:7002\n"
     ]
    }
   ],
   "source": [
    "meshcat = StartMeshcat()"
   ]
  },
  {
   "cell_type": "markdown",
   "metadata": {},
   "source": [
    "## Teleop Franka arm \n",
    "To move the robot manually and visualize it : \n",
    "Enter an integer between 0 and 5 as input.\n",
    "\n",
    "0: positive translation along the x-axis / 1: negative translation <br>\n",
    "\n",
    "2: positive translation along the y-axis / 3: negative translation <br>\n",
    "\n",
    "4: positive translation along the z-axis / 5: negative translation "
   ]
  },
  {
   "cell_type": "code",
   "execution_count": null,
   "metadata": {},
   "outputs": [],
   "source": [
    "\n",
    "env = gym.make(\"Franka-v1\", meshcat=meshcat)\n",
    "obs, _ = env.reset()\n",
    "env.render()\n",
    "\n",
    "for i in range(50):\n",
    "\n",
    "    action = [int(input(\"Choose an action \"))]\n",
    "    obs, reward, terminated, truncated, info= env.step(action)\n",
    "    env.render()\n",
    "    "
   ]
  },
  {
   "cell_type": "markdown",
   "metadata": {},
   "source": [
    "### Simulation with random actions\n",
    "\n",
    "Sample a random action at each time step to make the robot move randomly :"
   ]
  },
  {
   "cell_type": "code",
   "execution_count": null,
   "metadata": {},
   "outputs": [],
   "source": [
    "\n",
    "env = gym.make(\"Franka-v1\", meshcat=meshcat)\n",
    "obs, _ = env.reset()\n",
    "meshcat.StartRecording()\n",
    "for i in range(200 if running_as_notebook else 5):\n",
    "    action = env.action_space.sample()\n",
    "    obs, reward, terminated, truncated, info = env.step(action)\n",
    "    #if i == 50 : break\n",
    "    env.render()\n",
    "    if terminated: \n",
    "        obs, _ = env.reset()\n",
    "meshcat.PublishRecording()"
   ]
  },
  {
   "cell_type": "markdown",
   "metadata": {},
   "source": [
    "Note: The Meshcat visualizer allows you to replay the simulation after recording it. To do this, click on Open Control → Animations → Default."
   ]
  }
 ],
 "metadata": {
  "kernelspec": {
   "display_name": "drake_env",
   "language": "python",
   "name": "python3"
  },
  "language_info": {
   "codemirror_mode": {
    "name": "ipython",
    "version": 3
   },
   "file_extension": ".py",
   "mimetype": "text/x-python",
   "name": "python",
   "nbconvert_exporter": "python",
   "pygments_lexer": "ipython3",
   "version": "3.10.12"
  }
 },
 "nbformat": 4,
 "nbformat_minor": 2
}
